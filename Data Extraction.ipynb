{
 "cells": [
  {
   "cell_type": "markdown",
   "metadata": {},
   "source": [
    "# Week 2: Data Extraction\n",
    "\n",
    "### By: Calvin Chen and Matt Hashimoto"
   ]
  },
  {
   "cell_type": "markdown",
   "metadata": {},
   "source": [
    "Hey everyone, and welcome to Week 2 of the `Balling with Data` project! We're excited to get started with the project, so let's get underway! First, a table of contents about what we'll be covering in this notebook today."
   ]
  },
  {
   "cell_type": "code",
   "execution_count": null,
   "metadata": {},
   "outputs": [],
   "source": [
    "# Standard imports\n",
    "# If any of these don't work, try doing `pip install _____`, or try looking up the error message.\n",
    "import numpy as np\n",
    "import pandas as pd\n",
    "import json\n",
    "import time\n",
    "import os.path\n",
    "from os import path\n",
    "import math\n",
    "import datetime\n",
    "import unidecode\n",
    "import requests\n",
    "from bs4 import BeautifulSoup"
   ]
  },
  {
   "cell_type": "markdown",
   "metadata": {},
   "source": [
    "# Table of Contents\n",
    "* [Introduction to web-scraping](#section1)\n",
    "* [What is `sportsreference`?](#section2)\n",
    "* [Let's get our data!](#section3)\n",
    "    * [Potentially Useful Classes](#section3a)\n",
    "    * [Important Things to Know](#section3b)\n",
    "    * [Sandbox Area](#section3c)"
   ]
  },
  {
   "cell_type": "markdown",
   "metadata": {},
   "source": [
    "<a id='section1'></a>\n",
    "# Introduction to Web-Scraping!"
   ]
  },
  {
   "cell_type": "markdown",
   "metadata": {},
   "source": [
    "Now that we've discussed the different project objectives and what kind of data we plan on getting,  we can now look into different methods of extracting this data from the internet. There are a couple of different ways we could go about doing this:\n",
    "\n",
    "1. Web-scraping\n",
    "2. API endpoint/Package\n",
    "\n",
    "Between these two methods, the main difference is just how much someone has prepared the data for us beforehand. In many cases with starter data science projects, it'll be possible to find the data you need from differenrt free, online sources/APIs, making it easier for you to get started. However, what may happen on different occassions is that you won't be able to find any reliable database/data source that has all the different components of the data you're looking for. When this happens, you need to be able to find the data yourself. **How would we go about doing that? Let's try webscraping for [Stephen Curry college stats](https://www.sports-reference.com/cbb/players/stephen-curry-1.html).**"
   ]
  },
  {
   "cell_type": "code",
   "execution_count": null,
   "metadata": {},
   "outputs": [],
   "source": [
    "steph_url = 'https://www.sports-reference.com/cbb/players/stephen-curry-1.html'\n",
    "req = requests.get(steph_url) # This will make a request to steph_url for us!"
   ]
  },
  {
   "cell_type": "code",
   "execution_count": null,
   "metadata": {},
   "outputs": [],
   "source": [
    "# Now, we sift through the request's content with a html parser.\n",
    "soup = BeautifulSoup(req.content, 'html.parser')\n",
    "soup.prettify()"
   ]
  },
  {
   "cell_type": "code",
   "execution_count": null,
   "metadata": {
    "scrolled": true
   },
   "outputs": [],
   "source": [
    "# Now, we can use the .find method for BeautifulSoup objects to find the data we need from Steph Curry's stats.\n",
    "# We've done the following below for you because we won't be going too in-depth into this for the project, but\n",
    "# it's nice/important to know how to do.\n",
    "table = soup.find('table', {'id': 'players_per_game'})\n",
    "stats = table.findAll('td')\n",
    "row_stats = [stats[i:i+28] for i in range(0, len(stats), 28)]\n",
    "last_year = ['Steph Curry'] + [stat.get_text() for stat in row_stats[-2]] # Second-to-last element in row_stats should be the latest yearly averages for the player (right before career stats)\n",
    "last_year = np.reshape(np.array(last_year), (-1, 29))\n",
    "last_year\n"
   ]
  },
  {
   "cell_type": "markdown",
   "metadata": {},
   "source": [
    "Now, we've gotten Steph Curry's final year stats at Davidson, but what do the different stats mean? Let's find their headers so we put some sense to these numbers."
   ]
  },
  {
   "cell_type": "code",
   "execution_count": null,
   "metadata": {
    "scrolled": true
   },
   "outputs": [],
   "source": [
    "# Find column headers\n",
    "cols = table.findAll('th')[1:29] # Column headers\n",
    "col_headers = ['Name'] + [col.get_text() for col in cols]\n",
    "col_headers"
   ]
  },
  {
   "cell_type": "code",
   "execution_count": null,
   "metadata": {
    "scrolled": true
   },
   "outputs": [],
   "source": [
    "# Now, let's make a pandas dataframe from this data.\n",
    "curry = pd.DataFrame(data=last_year, columns=np.array(col_headers))\n",
    "curry"
   ]
  },
  {
   "cell_type": "markdown",
   "metadata": {},
   "source": [
    "Congrats! You've successfully scraped together a dataframe for us to analyze about Steph Curry's basketball stats in his final year at Davidson college. Now, we can see that we'd easily be able to apply the same logic above to a variety of different NCAA players, and may still be quite useful when we come across **international players**. Unfortunately, for the scope of this project, we won't get into analyzing international player's stats, but you can imagine it'd be a similar process to how we analyzed Steph Curry above."
   ]
  },
  {
   "cell_type": "markdown",
   "metadata": {},
   "source": [
    "Now, let's get into a free sports API that'll abstract all this scraping away for all the different types of websites we might encounter, and allow us to access all the different player data in a friendly format. **Let's get into what `sportsreference` can do for us!**"
   ]
  },
  {
   "cell_type": "markdown",
   "metadata": {},
   "source": [
    "<a id='section2'></a>\n",
    "# What is `sportsreference`?"
   ]
  },
  {
   "cell_type": "markdown",
   "metadata": {},
   "source": [
    "Now that we've seen how web-scraping works fundamentally, let's work with an API that will abstract that all away for us and give us the ability to easily query for different players' stats we're interested in!\n",
    "\n",
    "**Let's visit the [sportsreference documentation](https://sportsreference.readthedocs.io/en/stable/).**\n",
    "\n",
    "Read through the documentation and get a handle for how the API is strcutured. Afterwards, we'll get into a couple of different exercises, and then leave the rest for you guys to handle! Feel free to make as many cells as you'd like to help with your development!"
   ]
  },
  {
   "cell_type": "markdown",
   "metadata": {},
   "source": [
    "Things that might help with running Jupyter Notebooks: Go to Help -> Keyboard Shortcuts (they will help immensely in the long term with saving time!)\n",
    "\n",
    "Alternatively, check out this [link](https://towardsdatascience.com/jypyter-notebook-shortcuts-bf0101a98330) for other shortcuts!"
   ]
  },
  {
   "cell_type": "code",
   "execution_count": null,
   "metadata": {},
   "outputs": [],
   "source": [
    "# Modules from sportsrefernece.ncaab for college basketball\n",
    "from sportsreference.ncaab.boxscore import Boxscore as NCAAB_Boxscore\n",
    "from sportsreference.ncaab.conferences import Conferences as NCAAB_Conferences\n",
    "from sportsreference.ncaab.rankings import Rankings as NCAAB_Rankings\n",
    "from sportsreference.ncaab.roster import Player as NCAAB_Player\n",
    "from sportsreference.ncaab.roster import Roster as NCAAB_Roster\n",
    "from sportsreference.ncaab.schedule import Schedule as NCAAB_Schedule\n",
    "from sportsreference.ncaab.teams import Teams as NCAAB_Teams\n",
    "\n",
    "# Modules from sportsrefernece.nba for NBA basketball\n",
    "from sportsreference.nba.boxscore import Boxscore as NBA_Boxscore\n",
    "from sportsreference.nba.roster import Player as NBA_Player\n",
    "from sportsreference.nba.roster import Roster as NBA_Roster\n",
    "from sportsreference.nba.schedule import Schedule as NBA_Schedule\n",
    "from sportsreference.nba.teams import Teams as NBA_Teams"
   ]
  },
  {
   "cell_type": "markdown",
   "metadata": {},
   "source": [
    "If you're unsure of what different attributes an object has, feel free to take a look at its `__dict__` method! This is a great way to remove an abstraction barrier and see what you can really mess with!\n",
    "\n",
    "**Example:**"
   ]
  },
  {
   "cell_type": "code",
   "execution_count": null,
   "metadata": {},
   "outputs": [],
   "source": [
    "curry = NBA_Player('curryst01')"
   ]
  },
  {
   "cell_type": "code",
   "execution_count": null,
   "metadata": {},
   "outputs": [],
   "source": [
    "curry.__dict__"
   ]
  },
  {
   "cell_type": "markdown",
   "metadata": {},
   "source": [
    "**Exercise 1:** Find all the different teams' abbreviations in the NBA in 2011."
   ]
  },
  {
   "cell_type": "code",
   "execution_count": null,
   "metadata": {},
   "outputs": [],
   "source": [
    "# TODO"
   ]
  },
  {
   "cell_type": "markdown",
   "metadata": {},
   "source": [
    "**Exercise 2:** Get all the player's names that played for the Golden State Warriors in the past 3 years."
   ]
  },
  {
   "cell_type": "code",
   "execution_count": null,
   "metadata": {},
   "outputs": [],
   "source": [
    "# TODO"
   ]
  },
  {
   "cell_type": "markdown",
   "metadata": {},
   "source": [
    "**Exercise 3:** Return all the **player objects** that played for Cal Basketball and UCLA from 2015 to 2018."
   ]
  },
  {
   "cell_type": "code",
   "execution_count": null,
   "metadata": {},
   "outputs": [],
   "source": [
    "# TODO"
   ]
  },
  {
   "cell_type": "markdown",
   "metadata": {},
   "source": [
    "Nice! Now that you've been able to get a feel for how the packages work, let's get into the data problem we're dealing with at hand."
   ]
  },
  {
   "cell_type": "markdown",
   "metadata": {},
   "source": [
    "<a id='section3'></a>\n",
    "# Let's Get Our Data!"
   ]
  },
  {
   "cell_type": "markdown",
   "metadata": {},
   "source": [
    "Now that you've been able to tinker around with a little bit of the package, try and figure out how you might able to get the data we need for the project! We've provided the following classes below to try and help out what we're trying to find, but tinker around and see what kind of things you come across!"
   ]
  },
  {
   "cell_type": "markdown",
   "metadata": {},
   "source": [
    "To reiterate our project objective, and in turn, what we need from our data, we want to:\n",
    "\n",
    "**Predict the 2019-2020 NBA Rookie statlines and compare those to their current statlines, given the past 20 years worth of NBA rookie + NCAA basketball data.**"
   ]
  },
  {
   "cell_type": "markdown",
   "metadata": {},
   "source": [
    "<a id='section3b'></a>\n",
    "## Important Things To Know"
   ]
  },
  {
   "cell_type": "markdown",
   "metadata": {},
   "source": [
    "1. The last digit on the `player_id` tag relates to which number instance they are of that name. For example, `stephen-curry-2` would be the second player with the same name `Stephen Curry`. This can get incredibly annoying when trying to translate player data from the NBA to the NCAA, as there's a lot more players (and more possible name collisions) in the NCAA than in the NBA."
   ]
  },
  {
   "cell_type": "markdown",
   "metadata": {},
   "source": [
    "2. Datetime objects are comparable. Let's see how this implicates with what we know above with the new classes. (Hint: Can a player play in NCAA basketball after playing in the NBA?)"
   ]
  },
  {
   "cell_type": "code",
   "execution_count": null,
   "metadata": {},
   "outputs": [],
   "source": [
    "year_2009 = datetime.datetime.strptime('2009', '%Y').date()\n",
    "year_2009"
   ]
  },
  {
   "cell_type": "code",
   "execution_count": null,
   "metadata": {},
   "outputs": [],
   "source": [
    "year_2008 = datetime.datetime.strptime('2008', '%Y').date()\n",
    "year_2008"
   ]
  },
  {
   "cell_type": "code",
   "execution_count": null,
   "metadata": {},
   "outputs": [],
   "source": [
    "year_2009 > year_2008"
   ]
  },
  {
   "cell_type": "markdown",
   "metadata": {},
   "source": [
    "3. It may be easier for you to go from all the different NBA players and trying to find their respective NCAA stats than the other way around (there are less NBA players than NCAA players, so potentially less queries to be made to find all the data.)"
   ]
  },
  {
   "cell_type": "markdown",
   "metadata": {},
   "source": [
    "4. Take a look at what happens when you try to query into the NCAAB_Player class with an invalid `player_id` and see how you can use this to your advantage!"
   ]
  },
  {
   "cell_type": "code",
   "execution_count": null,
   "metadata": {
    "scrolled": true
   },
   "outputs": [],
   "source": [
    "NCAAB_Player('lebron-james-1') # LeBron never went to college."
   ]
  },
  {
   "cell_type": "markdown",
   "metadata": {},
   "source": [
    "5. One of the most key components of this data extraction portion is matching the player correctly (from NBA to NCAA). Since there's no 1-to-1 mapping that exists within the API itself, so it'll be important to think about what verifications we need to make for determining how NBA players can be mapped to the NCAAB."
   ]
  },
  {
   "cell_type": "markdown",
   "metadata": {},
   "source": [
    "6. There will be many different cases where this function won't work, and it's up to you for what you want to do about them (i.e. international players didn't play in the NCAA, players aren't necessarily guarenteed to be the first instance player with their name). Feel free to ask us about what you should do in order to deal with these cases, but we mention this to highlight how what you choose to do here can alter how your project fundamentally behaves later on. This doesn't mean any way is necessarily right (we haven't gone through all the different combinations), but this gives you more free reign to take this project into your own hands and determine **what you want your data to be like, and where to get the data from.**"
   ]
  },
  {
   "cell_type": "markdown",
   "metadata": {},
   "source": [
    "## Helper Methods"
   ]
  },
  {
   "cell_type": "markdown",
   "metadata": {},
   "source": [
    "Here's where you'll be extracting all the data you might need for the project. We've also provided some helper functions and how they're used, just to help out with development-- feel free to go in different directions if you'd like/not use these functions if you don't need to!\n",
    "\n",
    "Feel free to tinker around however you please and ask us any questions you might have about anything-- we're more than happy to help you out!"
   ]
  },
  {
   "cell_type": "code",
   "execution_count": null,
   "metadata": {},
   "outputs": [],
   "source": [
    "# This method should hopefully reduce the number of failure cases.\n",
    "def convert_nba_ncaa_name(name):\n",
    "    \"\"\"\n",
    "    Converts the format of the NBA player_id to the NCAA player_id.\n",
    "    \n",
    "    You may want to elaborate on the logic on this function to reduce the number of failure cases later.\n",
    "    \"\"\"\n",
    "    return unidecode.unidecode(name.lower().replace(\" \", \"-\") + \"-1\")"
   ]
  },
  {
   "cell_type": "code",
   "execution_count": null,
   "metadata": {},
   "outputs": [],
   "source": [
    "# Example usage\n",
    "convert_nba_ncaa_name(\"Stephen Curry\")"
   ]
  },
  {
   "cell_type": "code",
   "execution_count": null,
   "metadata": {},
   "outputs": [],
   "source": [
    "def format_df(player_name, df, is_college):\n",
    "    \"\"\"\n",
    "    Formats a dataframe returned by calling either the `NBA_Player` or `NCAAB_Player` methods\n",
    "    into a dataframe that we want to return later.\n",
    "    \"\"\"\n",
    "    # Easier toggling into different functions for later, instead of having to remember how they work\n",
    "    is_college_types = {\n",
    "        True: lambda x: 'NBA_' + x,\n",
    "        False: lambda x: 'NCAAB_' + x,\n",
    "    }\n",
    "    \n",
    "    # Takes a function and renames the column names using that function\n",
    "    df.rename(columns=is_college_types[is_college], inplace=True)\n",
    "    col_names = ['name'] + list(df.columns)\n",
    "    df['name'] = player_name\n",
    "    df = df[col_names]\n",
    "    \n",
    "    # This is for whether or not to format the dataframe by looking at the last year college stats, or first year \n",
    "    # NBA stats. Feel free to tinker with these couple of lines outside this function as well-- they're incredibly \n",
    "    # key for this part of the project!\n",
    "    if is_college == True: \n",
    "        return df.iloc[[df.shape[0] - 2]]\n",
    "    else:\n",
    "        return df.iloc[[0]]"
   ]
  },
  {
   "cell_type": "code",
   "execution_count": null,
   "metadata": {},
   "outputs": [],
   "source": [
    "# Example usage\n",
    "format_df('Stephen Curry', NBA_Player('curryst01').dataframe, is_college=True)"
   ]
  },
  {
   "cell_type": "code",
   "execution_count": null,
   "metadata": {},
   "outputs": [],
   "source": [
    "# Example usage\n",
    "format_df('Stephen Curry', NCAAB_Player('stephen-curry-1').dataframe, is_college=False)"
   ]
  },
  {
   "cell_type": "code",
   "execution_count": null,
   "metadata": {},
   "outputs": [],
   "source": [
    "def convert_year_to_date(year: int):\n",
    "    \"\"\"\n",
    "    Converts a passed in year into a datetime object that can be compared with other datetime objects.\n",
    "    \"\"\"\n",
    "    return datetime.datetime.strptime(str(year), '%Y').date()"
   ]
  },
  {
   "cell_type": "code",
   "execution_count": null,
   "metadata": {},
   "outputs": [],
   "source": [
    "# Example usage\n",
    "convert_year_to_date(2008)"
   ]
  },
  {
   "cell_type": "markdown",
   "metadata": {},
   "source": [
    "## Sandbox Area"
   ]
  },
  {
   "cell_type": "code",
   "execution_count": null,
   "metadata": {},
   "outputs": [],
   "source": [
    "def get_nba_ncaa_10_years(year: int):\n",
    "    \"\"\"\n",
    "    Get all the player data (both college and NBA) from all players that played in the NBA in the past 10 years.\n",
    "    Separate out all the different failed cases for this function into a different output, so we can analyze them \n",
    "    afterwards and see what kinds of cases we're missing out on.\n",
    "    \n",
    "    Expected output type: Pandas dataframe, Python dictionary\n",
    "\n",
    "    Example: get_nba_ncaa_10_years(2000)\n",
    "    Returns: All valid player data from 2000 to today.\n",
    "    \"\"\"\n",
    "    # dododododododoodod\n",
    "    \n",
    "    \n",
    "    \n",
    "    \n",
    "\n",
    "    \n",
    "    ...\n",
    "    return data, failed"
   ]
  },
  {
   "cell_type": "markdown",
   "metadata": {},
   "source": [
    "To guide your development, here's a snippet of a dataframe that we'd like to have constructed by the end of this!"
   ]
  },
  {
   "cell_type": "code",
   "execution_count": null,
   "metadata": {},
   "outputs": [],
   "source": [
    "pd.read_csv('example_data.csv')"
   ]
  },
  {
   "cell_type": "markdown",
   "metadata": {},
   "source": [
    "**Running methods and saving CSV here**"
   ]
  },
  {
   "cell_type": "code",
   "execution_count": null,
   "metadata": {},
   "outputs": [],
   "source": [
    "data, failed = get_nba_ncaa_10_years()\n",
    "csv_data = data.to_csv('all_player_data.csv')"
   ]
  },
  {
   "cell_type": "markdown",
   "metadata": {},
   "source": [
    "**Congrats! You've gotten all your data!** This is definitely not an easy task to do, so congratulate yourself with figuring out how `sportsreference` works and getting all the data we need for the project! Next week, we'll get into analyzing the different features of the data, and doing some [data analysis](https://en.wikipedia.org/wiki/Data_analysis) and [feature engineering](https://en.wikipedia.org/wiki/Feature_engineering) to determine which features will be best to use for our project. Stay tuned for more :D"
   ]
  },
  {
   "cell_type": "code",
   "execution_count": null,
   "metadata": {},
   "outputs": [],
   "source": []
  }
 ],
 "metadata": {
  "kernelspec": {
   "display_name": "Python 3",
   "language": "python",
   "name": "python3"
  },
  "language_info": {
   "codemirror_mode": {
    "name": "ipython",
    "version": 3
   },
   "file_extension": ".py",
   "mimetype": "text/x-python",
   "name": "python",
   "nbconvert_exporter": "python",
   "pygments_lexer": "ipython3",
   "version": "3.6.5"
  }
 },
 "nbformat": 4,
 "nbformat_minor": 4
}
